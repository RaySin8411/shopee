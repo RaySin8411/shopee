{
 "cells": [
  {
   "cell_type": "code",
   "execution_count": 1,
   "metadata": {
    "_cell_guid": "b1076dfc-b9ad-4769-8c92-a6c4dae69d19",
    "_uuid": "8f2839f25d086af736a60e9eeb907d3b93b6e0e5",
    "execution": {
     "iopub.execute_input": "2021-03-14T00:27:57.760243Z",
     "iopub.status.busy": "2021-03-14T00:27:57.759610Z",
     "iopub.status.idle": "2021-03-14T00:28:10.756884Z",
     "shell.execute_reply": "2021-03-14T00:28:10.755514Z"
    },
    "papermill": {
     "duration": 13.011052,
     "end_time": "2021-03-14T00:28:10.757102",
     "exception": false,
     "start_time": "2021-03-14T00:27:57.746050",
     "status": "completed"
    },
    "tags": []
   },
   "outputs": [
    {
     "name": "stdout",
     "output_type": "stream",
     "text": [
      "Collecting deepparse\r\n",
      "  Downloading deepparse-0.3.2-py3-none-any.whl (83 kB)\r\n",
      "\u001b[K     |████████████████████████████████| 83 kB 793 kB/s \r\n",
      "\u001b[?25hRequirement already satisfied: fasttext in /opt/conda/lib/python3.7/site-packages (from deepparse) (0.9.2)\r\n",
      "Collecting pymagnitude-light\r\n",
      "  Downloading pymagnitude_light-0.1.147-py3-none-any.whl (35 kB)\r\n",
      "Requirement already satisfied: torch in /opt/conda/lib/python3.7/site-packages (from deepparse) (1.7.0)\r\n",
      "Requirement already satisfied: requests in /opt/conda/lib/python3.7/site-packages (from deepparse) (2.25.1)\r\n",
      "Collecting bpemb\r\n",
      "  Downloading bpemb-0.3.2-py3-none-any.whl (19 kB)\r\n",
      "Requirement already satisfied: numpy in /opt/conda/lib/python3.7/site-packages (from deepparse) (1.19.5)\r\n",
      "Collecting poutyne\r\n",
      "  Downloading Poutyne-1.3.1-py3-none-any.whl (133 kB)\r\n",
      "\u001b[K     |████████████████████████████████| 133 kB 4.2 MB/s \r\n",
      "\u001b[?25hRequirement already satisfied: gensim in /opt/conda/lib/python3.7/site-packages (from bpemb->deepparse) (3.8.3)\r\n",
      "Requirement already satisfied: sentencepiece in /opt/conda/lib/python3.7/site-packages (from bpemb->deepparse) (0.1.95)\r\n",
      "Requirement already satisfied: tqdm in /opt/conda/lib/python3.7/site-packages (from bpemb->deepparse) (4.55.1)\r\n",
      "Requirement already satisfied: pybind11>=2.2 in /opt/conda/lib/python3.7/site-packages (from fasttext->deepparse) (2.6.2)\r\n",
      "Requirement already satisfied: setuptools>=0.7.0 in /opt/conda/lib/python3.7/site-packages (from fasttext->deepparse) (49.6.0.post20201009)\r\n",
      "Requirement already satisfied: smart-open>=1.8.1 in /opt/conda/lib/python3.7/site-packages (from gensim->bpemb->deepparse) (3.0.0)\r\n",
      "Requirement already satisfied: six>=1.5.0 in /opt/conda/lib/python3.7/site-packages (from gensim->bpemb->deepparse) (1.15.0)\r\n",
      "Requirement already satisfied: scipy>=0.18.1 in /opt/conda/lib/python3.7/site-packages (from gensim->bpemb->deepparse) (1.5.4)\r\n",
      "Collecting xxhash>=1.0.1\r\n",
      "  Downloading xxhash-2.0.0-cp37-cp37m-manylinux2010_x86_64.whl (243 kB)\r\n",
      "\u001b[K     |████████████████████████████████| 243 kB 4.7 MB/s \r\n",
      "\u001b[?25hCollecting lz4>=1.0.0\r\n",
      "  Downloading lz4-3.1.3-cp37-cp37m-manylinux2010_x86_64.whl (1.8 MB)\r\n",
      "\u001b[K     |████████████████████████████████| 1.8 MB 5.0 MB/s \r\n",
      "\u001b[?25hCollecting fasteners>=0.14.1\r\n",
      "  Downloading fasteners-0.16-py2.py3-none-any.whl (28 kB)\r\n",
      "Requirement already satisfied: chardet<5,>=3.0.2 in /opt/conda/lib/python3.7/site-packages (from requests->deepparse) (3.0.4)\r\n",
      "Requirement already satisfied: certifi>=2017.4.17 in /opt/conda/lib/python3.7/site-packages (from requests->deepparse) (2020.12.5)\r\n",
      "Requirement already satisfied: urllib3<1.27,>=1.21.1 in /opt/conda/lib/python3.7/site-packages (from requests->deepparse) (1.26.2)\r\n",
      "Requirement already satisfied: idna<3,>=2.5 in /opt/conda/lib/python3.7/site-packages (from requests->deepparse) (2.10)\r\n",
      "Requirement already satisfied: future in /opt/conda/lib/python3.7/site-packages (from torch->deepparse) (0.18.2)\r\n",
      "Requirement already satisfied: typing_extensions in /opt/conda/lib/python3.7/site-packages (from torch->deepparse) (3.7.4.3)\r\n",
      "Requirement already satisfied: dataclasses in /opt/conda/lib/python3.7/site-packages (from torch->deepparse) (0.6)\r\n",
      "Installing collected packages: xxhash, lz4, fasteners, pymagnitude-light, poutyne, bpemb, deepparse\r\n",
      "Successfully installed bpemb-0.3.2 deepparse-0.3.2 fasteners-0.16 lz4-3.1.3 poutyne-1.3.1 pymagnitude-light-0.1.147 xxhash-2.0.0\r\n"
     ]
    }
   ],
   "source": [
    "import gc\n",
    "import tqdm\n",
    "import numpy as np\n",
    "import pandas as pd\n",
    "!pip install deepparse\n",
    "\n",
    "from deepparse.parser import AddressParser\n",
    "train_path = \"/kaggle/input/scl-2021-ds/train.csv\"\n",
    "train_df = pd.read_csv(train_path)\n"
   ]
  },
  {
   "cell_type": "code",
   "execution_count": 2,
   "metadata": {
    "execution": {
     "iopub.execute_input": "2021-03-14T00:28:11.144905Z",
     "iopub.status.busy": "2021-03-14T00:28:11.144326Z",
     "iopub.status.idle": "2021-03-14T00:30:55.998305Z",
     "shell.execute_reply": "2021-03-14T00:30:55.999393Z"
    },
    "papermill": {
     "duration": 165.226193,
     "end_time": "2021-03-14T00:30:55.999578",
     "exception": false,
     "start_time": "2021-03-14T00:28:10.773385",
     "status": "completed"
    },
    "tags": []
   },
   "outputs": [
    {
     "name": "stdout",
     "output_type": "stream",
     "text": [
      "The fastText pre-trained word embeddings will be download in magnitude format (2.3 GO), this process will take several minutes.\n",
      "Loading the embeddings model\n",
      "Downloading the weights for the network fasttext.\n"
     ]
    }
   ],
   "source": [
    "address_parser = AddressParser(model_type=\"fasttext-light\", device=0)\n",
    "\n",
    "# training_container = PickleDatasetContainer(os.path.join(saving_dir, training_dataset_name + \".\" + file_extension))\n",
    "# address_parser.retrain(training_container, 0.8, epochs=5, batch_size=8)"
   ]
  },
  {
   "cell_type": "code",
   "execution_count": 3,
   "metadata": {
    "execution": {
     "iopub.execute_input": "2021-03-14T00:30:56.059662Z",
     "iopub.status.busy": "2021-03-14T00:30:56.058872Z",
     "iopub.status.idle": "2021-03-14T00:30:56.146032Z",
     "shell.execute_reply": "2021-03-14T00:30:56.147088Z"
    },
    "papermill": {
     "duration": 0.123645,
     "end_time": "2021-03-14T00:30:56.147307",
     "exception": false,
     "start_time": "2021-03-14T00:30:56.023662",
     "status": "completed"
    },
    "tags": []
   },
   "outputs": [],
   "source": [
    "test_path = \"/kaggle/input/scl-2021-ds/test.csv\"\n",
    "test_df = pd.read_csv(test_path)\n",
    "poi_street = []"
   ]
  },
  {
   "cell_type": "code",
   "execution_count": 4,
   "metadata": {
    "execution": {
     "iopub.execute_input": "2021-03-14T00:30:56.203232Z",
     "iopub.status.busy": "2021-03-14T00:30:56.202352Z",
     "iopub.status.idle": "2021-03-14T00:30:56.204884Z",
     "shell.execute_reply": "2021-03-14T00:30:56.205490Z"
    },
    "papermill": {
     "duration": 0.033117,
     "end_time": "2021-03-14T00:30:56.205685",
     "exception": false,
     "start_time": "2021-03-14T00:30:56.172568",
     "status": "completed"
    },
    "tags": []
   },
   "outputs": [],
   "source": [
    "def return_submission(df):\n",
    "    parsed_address = address_parser(df, )\n",
    "    street = [x.street_name if x.street_name else '' for x in parsed_address ]\n",
    "#     poi = [x.unit if x.unit else '' for x in parsed_address ]\n",
    "    poi_street = ['/' + y for y in street]\n",
    "    return poi_street"
   ]
  },
  {
   "cell_type": "code",
   "execution_count": null,
   "metadata": {
    "papermill": {
     "duration": 0.02499,
     "end_time": "2021-03-14T00:30:56.255859",
     "exception": false,
     "start_time": "2021-03-14T00:30:56.230869",
     "status": "completed"
    },
    "tags": []
   },
   "outputs": [],
   "source": []
  },
  {
   "cell_type": "code",
   "execution_count": 5,
   "metadata": {
    "execution": {
     "iopub.execute_input": "2021-03-14T00:30:56.318329Z",
     "iopub.status.busy": "2021-03-14T00:30:56.317516Z",
     "iopub.status.idle": "2021-03-14T00:34:23.267442Z",
     "shell.execute_reply": "2021-03-14T00:34:23.268102Z"
    },
    "papermill": {
     "duration": 206.98735,
     "end_time": "2021-03-14T00:34:23.268322",
     "exception": false,
     "start_time": "2021-03-14T00:30:56.280972",
     "status": "completed"
    },
    "tags": []
   },
   "outputs": [
    {
     "name": "stdout",
     "output_type": "stream",
     "text": [
      "Vectorizing the address\n"
     ]
    },
    {
     "data": {
      "text/plain": [
       "0"
      ]
     },
     "execution_count": 5,
     "metadata": {},
     "output_type": "execute_result"
    }
   ],
   "source": [
    "test_1 = return_submission(test_df['raw_address'][:10000])\n",
    "poi_street.extend(test_1)\n",
    "del test_1\n",
    "gc.collect()\n"
   ]
  },
  {
   "cell_type": "code",
   "execution_count": 6,
   "metadata": {
    "execution": {
     "iopub.execute_input": "2021-03-14T00:34:23.377714Z",
     "iopub.status.busy": "2021-03-14T00:34:23.375930Z",
     "iopub.status.idle": "2021-03-14T00:37:05.693208Z",
     "shell.execute_reply": "2021-03-14T00:37:05.693913Z"
    },
    "papermill": {
     "duration": 162.355093,
     "end_time": "2021-03-14T00:37:05.694173",
     "exception": false,
     "start_time": "2021-03-14T00:34:23.339080",
     "status": "completed"
    },
    "tags": []
   },
   "outputs": [
    {
     "name": "stdout",
     "output_type": "stream",
     "text": [
      "Vectorizing the address\n"
     ]
    },
    {
     "data": {
      "text/plain": [
       "0"
      ]
     },
     "execution_count": 6,
     "metadata": {},
     "output_type": "execute_result"
    }
   ],
   "source": [
    "test_2 = return_submission(test_df['raw_address'][10000:20000])\n",
    "poi_street.extend(test_2)\n",
    "del test_2\n",
    "gc.collect()"
   ]
  },
  {
   "cell_type": "code",
   "execution_count": 7,
   "metadata": {
    "execution": {
     "iopub.execute_input": "2021-03-14T00:37:05.761125Z",
     "iopub.status.busy": "2021-03-14T00:37:05.760186Z",
     "iopub.status.idle": "2021-03-14T00:39:43.586581Z",
     "shell.execute_reply": "2021-03-14T00:39:43.587309Z"
    },
    "papermill": {
     "duration": 157.864281,
     "end_time": "2021-03-14T00:39:43.587561",
     "exception": false,
     "start_time": "2021-03-14T00:37:05.723280",
     "status": "completed"
    },
    "tags": []
   },
   "outputs": [
    {
     "name": "stdout",
     "output_type": "stream",
     "text": [
      "Vectorizing the address\n"
     ]
    },
    {
     "data": {
      "text/plain": [
       "0"
      ]
     },
     "execution_count": 7,
     "metadata": {},
     "output_type": "execute_result"
    }
   ],
   "source": [
    "test_3 = return_submission(test_df['raw_address'][20000:30000])\n",
    "poi_street.extend(test_3)\n",
    "del test_3\n",
    "gc.collect()"
   ]
  },
  {
   "cell_type": "code",
   "execution_count": 8,
   "metadata": {
    "execution": {
     "iopub.execute_input": "2021-03-14T00:39:43.657539Z",
     "iopub.status.busy": "2021-03-14T00:39:43.656657Z",
     "iopub.status.idle": "2021-03-14T00:42:13.455664Z",
     "shell.execute_reply": "2021-03-14T00:42:13.456356Z"
    },
    "papermill": {
     "duration": 149.838726,
     "end_time": "2021-03-14T00:42:13.456575",
     "exception": false,
     "start_time": "2021-03-14T00:39:43.617849",
     "status": "completed"
    },
    "tags": []
   },
   "outputs": [
    {
     "name": "stdout",
     "output_type": "stream",
     "text": [
      "Vectorizing the address\n"
     ]
    },
    {
     "data": {
      "text/plain": [
       "0"
      ]
     },
     "execution_count": 8,
     "metadata": {},
     "output_type": "execute_result"
    }
   ],
   "source": [
    "test_4 = return_submission(test_df['raw_address'][30000:40000])\n",
    "poi_street.extend(test_4)\n",
    "del test_4\n",
    "gc.collect()"
   ]
  },
  {
   "cell_type": "code",
   "execution_count": 9,
   "metadata": {
    "execution": {
     "iopub.execute_input": "2021-03-14T00:42:13.524232Z",
     "iopub.status.busy": "2021-03-14T00:42:13.523408Z",
     "iopub.status.idle": "2021-03-14T00:44:33.914600Z",
     "shell.execute_reply": "2021-03-14T00:44:33.915396Z"
    },
    "papermill": {
     "duration": 140.429598,
     "end_time": "2021-03-14T00:44:33.915647",
     "exception": false,
     "start_time": "2021-03-14T00:42:13.486049",
     "status": "completed"
    },
    "tags": []
   },
   "outputs": [
    {
     "name": "stdout",
     "output_type": "stream",
     "text": [
      "Vectorizing the address\n"
     ]
    },
    {
     "data": {
      "text/plain": [
       "0"
      ]
     },
     "execution_count": 9,
     "metadata": {},
     "output_type": "execute_result"
    }
   ],
   "source": [
    "test_5 = return_submission(test_df['raw_address'][40000:])\n",
    "poi_street.extend(test_5)\n",
    "del test_5\n",
    "gc.collect()"
   ]
  },
  {
   "cell_type": "code",
   "execution_count": 10,
   "metadata": {
    "execution": {
     "iopub.execute_input": "2021-03-14T00:44:34.018638Z",
     "iopub.status.busy": "2021-03-14T00:44:34.009337Z",
     "iopub.status.idle": "2021-03-14T00:44:34.037192Z",
     "shell.execute_reply": "2021-03-14T00:44:34.037956Z"
    },
    "papermill": {
     "duration": 0.073176,
     "end_time": "2021-03-14T00:44:34.038160",
     "exception": false,
     "start_time": "2021-03-14T00:44:33.964984",
     "status": "completed"
    },
    "tags": []
   },
   "outputs": [
    {
     "data": {
      "text/html": [
       "<div>\n",
       "<style scoped>\n",
       "    .dataframe tbody tr th:only-of-type {\n",
       "        vertical-align: middle;\n",
       "    }\n",
       "\n",
       "    .dataframe tbody tr th {\n",
       "        vertical-align: top;\n",
       "    }\n",
       "\n",
       "    .dataframe thead th {\n",
       "        text-align: right;\n",
       "    }\n",
       "</style>\n",
       "<table border=\"1\" class=\"dataframe\">\n",
       "  <thead>\n",
       "    <tr style=\"text-align: right;\">\n",
       "      <th></th>\n",
       "      <th>id</th>\n",
       "      <th>POI/street</th>\n",
       "    </tr>\n",
       "  </thead>\n",
       "  <tbody>\n",
       "    <tr>\n",
       "      <th>0</th>\n",
       "      <td>0</td>\n",
       "      <td>/s. par</td>\n",
       "    </tr>\n",
       "    <tr>\n",
       "      <th>1</th>\n",
       "      <td>1</td>\n",
       "      <td>/angg per, baloi</td>\n",
       "    </tr>\n",
       "    <tr>\n",
       "      <th>2</th>\n",
       "      <td>2</td>\n",
       "      <td>/</td>\n",
       "    </tr>\n",
       "    <tr>\n",
       "      <th>3</th>\n",
       "      <td>3</td>\n",
       "      <td>/ud agung rej,</td>\n",
       "    </tr>\n",
       "    <tr>\n",
       "      <th>4</th>\n",
       "      <td>4</td>\n",
       "      <td>/cut mutia,</td>\n",
       "    </tr>\n",
       "    <tr>\n",
       "      <th>...</th>\n",
       "      <td>...</td>\n",
       "      <td>...</td>\n",
       "    </tr>\n",
       "    <tr>\n",
       "      <th>49995</th>\n",
       "      <td>49995</td>\n",
       "      <td>/toko mbak farid</td>\n",
       "    </tr>\n",
       "    <tr>\n",
       "      <th>49996</th>\n",
       "      <td>49996</td>\n",
       "      <td>/ridho kids,</td>\n",
       "    </tr>\n",
       "    <tr>\n",
       "      <th>49997</th>\n",
       "      <td>49997</td>\n",
       "      <td>/mart dan roti</td>\n",
       "    </tr>\n",
       "    <tr>\n",
       "      <th>49998</th>\n",
       "      <td>49998</td>\n",
       "      <td>/indah pamulang jl. mujair</td>\n",
       "    </tr>\n",
       "    <tr>\n",
       "      <th>49999</th>\n",
       "      <td>49999</td>\n",
       "      <td>/</td>\n",
       "    </tr>\n",
       "  </tbody>\n",
       "</table>\n",
       "<p>50000 rows × 2 columns</p>\n",
       "</div>"
      ],
      "text/plain": [
       "          id                  POI/street\n",
       "0          0                     /s. par\n",
       "1          1            /angg per, baloi\n",
       "2          2                           /\n",
       "3          3              /ud agung rej,\n",
       "4          4                 /cut mutia,\n",
       "...      ...                         ...\n",
       "49995  49995            /toko mbak farid\n",
       "49996  49996                /ridho kids,\n",
       "49997  49997              /mart dan roti\n",
       "49998  49998  /indah pamulang jl. mujair\n",
       "49999  49999                           /\n",
       "\n",
       "[50000 rows x 2 columns]"
      ]
     },
     "execution_count": 10,
     "metadata": {},
     "output_type": "execute_result"
    }
   ],
   "source": [
    "submission = pd.DataFrame({\n",
    "    'id':test_df['id'],\n",
    "    'POI/street': pd.Series(poi_street)\n",
    "    })\n",
    "submission"
   ]
  },
  {
   "cell_type": "code",
   "execution_count": 11,
   "metadata": {
    "execution": {
     "iopub.execute_input": "2021-03-14T00:44:34.106497Z",
     "iopub.status.busy": "2021-03-14T00:44:34.105648Z",
     "iopub.status.idle": "2021-03-14T00:44:34.414883Z",
     "shell.execute_reply": "2021-03-14T00:44:34.416178Z"
    },
    "papermill": {
     "duration": 0.346767,
     "end_time": "2021-03-14T00:44:34.416394",
     "exception": false,
     "start_time": "2021-03-14T00:44:34.069627",
     "status": "completed"
    },
    "tags": []
   },
   "outputs": [],
   "source": [
    "submission = pd.DataFrame(submission)\n",
    "submission.to_csv('submission.csv', header=True, index=False)"
   ]
  }
 ],
 "metadata": {
  "kernelspec": {
   "display_name": "Python 3",
   "language": "python",
   "name": "python3"
  },
  "language_info": {
   "codemirror_mode": {
    "name": "ipython",
    "version": 3
   },
   "file_extension": ".py",
   "mimetype": "text/x-python",
   "name": "python",
   "nbconvert_exporter": "python",
   "pygments_lexer": "ipython3",
   "version": "3.7.9"
  },
  "papermill": {
   "default_parameters": {},
   "duration": 1003.97426,
   "end_time": "2021-03-14T00:44:36.736977",
   "environment_variables": {},
   "exception": null,
   "input_path": "__notebook__.ipynb",
   "output_path": "__notebook__.ipynb",
   "parameters": {},
   "start_time": "2021-03-14T00:27:52.762717",
   "version": "2.2.2"
  }
 },
 "nbformat": 4,
 "nbformat_minor": 4
}
