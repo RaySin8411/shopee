{
 "cells": [
  {
   "cell_type": "code",
   "execution_count": 1,
   "metadata": {
    "execution": {
     "iopub.execute_input": "2021-03-15T11:52:06.651912Z",
     "iopub.status.busy": "2021-03-15T11:52:06.651345Z",
     "iopub.status.idle": "2021-03-15T11:52:58.753305Z",
     "shell.execute_reply": "2021-03-15T11:52:58.751865Z"
    },
    "papermill": {
     "duration": 52.117338,
     "end_time": "2021-03-15T11:52:58.753512",
     "exception": false,
     "start_time": "2021-03-15T11:52:06.636174",
     "status": "completed"
    },
    "tags": []
   },
   "outputs": [
    {
     "name": "stdout",
     "output_type": "stream",
     "text": [
      "Collecting pandarallel\r\n",
      "  Downloading pandarallel-1.5.2.tar.gz (16 kB)\r\n",
      "Requirement already satisfied: dill in /opt/conda/lib/python3.7/site-packages (from pandarallel) (0.3.3)\r\n",
      "Building wheels for collected packages: pandarallel\r\n",
      "  Building wheel for pandarallel (setup.py) ... \u001b[?25l-\b \b\\\b \bdone\r\n",
      "\u001b[?25h  Created wheel for pandarallel: filename=pandarallel-1.5.2-py3-none-any.whl size=18384 sha256=58e1ebbc2930ef872a18d5a73ef3c9ce750c1462481bb1dda6947656caf64a1d\r\n",
      "  Stored in directory: /root/.cache/pip/wheels/b5/6d/51/9ece2eaf007ea3f7fb0ce053c5773b2eb0d308887da3af12c1\r\n",
      "Successfully built pandarallel\r\n",
      "Installing collected packages: pandarallel\r\n",
      "Successfully installed pandarallel-1.5.2\r\n",
      "Collecting pyahocorasick\r\n",
      "  Downloading pyahocorasick-1.4.1.tar.gz (321 kB)\r\n",
      "\u001b[K     |████████████████████████████████| 321 kB 863 kB/s \r\n",
      "\u001b[?25hBuilding wheels for collected packages: pyahocorasick\r\n",
      "  Building wheel for pyahocorasick (setup.py) ... \u001b[?25l-\b \b\\\b \b|\b \b/\b \bdone\r\n",
      "\u001b[?25h  Created wheel for pyahocorasick: filename=pyahocorasick-1.4.1-cp37-cp37m-linux_x86_64.whl size=102845 sha256=a3e4d24b8846f841fadb655311e2b2edbbac56a52bf47d1b059f075ce2985a98\r\n",
      "  Stored in directory: /root/.cache/pip/wheels/fe/ea/e6/38b0d734be6936b783e916a0d8d670313fb1b2f74c5889d4fe\r\n",
      "Successfully built pyahocorasick\r\n",
      "Installing collected packages: pyahocorasick\r\n",
      "Successfully installed pyahocorasick-1.4.1\r\n",
      "Requirement already satisfied: pip in /opt/conda/lib/python3.7/site-packages (21.0.1)\r\n",
      "Collecting spacy==3.0.*\r\n",
      "  Downloading spacy-3.0.5-cp37-cp37m-manylinux2014_x86_64.whl (12.8 MB)\r\n",
      "\u001b[K     |████████████████████████████████| 12.8 MB 288 kB/s \r\n",
      "\u001b[?25hRequirement already satisfied: preshed<3.1.0,>=3.0.2 in /opt/conda/lib/python3.7/site-packages (from spacy==3.0.*) (3.0.5)\r\n",
      "Requirement already satisfied: blis<0.8.0,>=0.4.0 in /opt/conda/lib/python3.7/site-packages (from spacy==3.0.*) (0.7.4)\r\n",
      "Requirement already satisfied: pathy>=0.3.5 in /opt/conda/lib/python3.7/site-packages (from spacy==3.0.*) (0.4.0)\r\n",
      "Requirement already satisfied: pydantic<1.8.0,>=1.7.1 in /opt/conda/lib/python3.7/site-packages (from spacy==3.0.*) (1.7.3)\r\n",
      "Requirement already satisfied: setuptools in /opt/conda/lib/python3.7/site-packages (from spacy==3.0.*) (49.6.0.post20201009)\r\n",
      "Requirement already satisfied: wasabi<1.1.0,>=0.8.1 in /opt/conda/lib/python3.7/site-packages (from spacy==3.0.*) (0.8.2)\r\n",
      "Requirement already satisfied: packaging>=20.0 in /opt/conda/lib/python3.7/site-packages (from spacy==3.0.*) (20.8)\r\n",
      "Collecting srsly<3.0.0,>=2.4.0\r\n",
      "  Downloading srsly-2.4.0-cp37-cp37m-manylinux2014_x86_64.whl (456 kB)\r\n",
      "\u001b[K     |████████████████████████████████| 456 kB 5.4 MB/s \r\n",
      "\u001b[?25hRequirement already satisfied: murmurhash<1.1.0,>=0.28.0 in /opt/conda/lib/python3.7/site-packages (from spacy==3.0.*) (1.0.5)\r\n",
      "Requirement already satisfied: typing-extensions<4.0.0.0,>=3.7.4 in /opt/conda/lib/python3.7/site-packages (from spacy==3.0.*) (3.7.4.3)\r\n",
      "Requirement already satisfied: importlib-metadata>=0.20 in /opt/conda/lib/python3.7/site-packages (from spacy==3.0.*) (3.3.0)\r\n",
      "Requirement already satisfied: jinja2 in /opt/conda/lib/python3.7/site-packages (from spacy==3.0.*) (2.11.2)\r\n",
      "Collecting thinc<8.1.0,>=8.0.2\r\n",
      "  Downloading thinc-8.0.2-cp37-cp37m-manylinux2014_x86_64.whl (1.1 MB)\r\n",
      "\u001b[K     |████████████████████████████████| 1.1 MB 5.8 MB/s \r\n",
      "\u001b[?25hRequirement already satisfied: tqdm<5.0.0,>=4.38.0 in /opt/conda/lib/python3.7/site-packages (from spacy==3.0.*) (4.55.1)\r\n",
      "Requirement already satisfied: cymem<2.1.0,>=2.0.2 in /opt/conda/lib/python3.7/site-packages (from spacy==3.0.*) (2.0.5)\r\n",
      "Requirement already satisfied: numpy>=1.15.0 in /opt/conda/lib/python3.7/site-packages (from spacy==3.0.*) (1.19.5)\r\n",
      "Requirement already satisfied: spacy-legacy<3.1.0,>=3.0.0 in /opt/conda/lib/python3.7/site-packages (from spacy==3.0.*) (3.0.1)\r\n",
      "Requirement already satisfied: requests<3.0.0,>=2.13.0 in /opt/conda/lib/python3.7/site-packages (from spacy==3.0.*) (2.25.1)\r\n",
      "Requirement already satisfied: typer<0.4.0,>=0.3.0 in /opt/conda/lib/python3.7/site-packages (from spacy==3.0.*) (0.3.2)\r\n",
      "Collecting catalogue<2.1.0,>=2.0.1\r\n",
      "  Downloading catalogue-2.0.1-py3-none-any.whl (9.6 kB)\r\n",
      "Requirement already satisfied: zipp>=0.5 in /opt/conda/lib/python3.7/site-packages (from importlib-metadata>=0.20->spacy==3.0.*) (3.4.0)\r\n",
      "Requirement already satisfied: pyparsing>=2.0.2 in /opt/conda/lib/python3.7/site-packages (from packaging>=20.0->spacy==3.0.*) (2.4.7)\r\n",
      "Requirement already satisfied: smart-open<4.0.0,>=2.2.0 in /opt/conda/lib/python3.7/site-packages (from pathy>=0.3.5->spacy==3.0.*) (3.0.0)\r\n",
      "Requirement already satisfied: urllib3<1.27,>=1.21.1 in /opt/conda/lib/python3.7/site-packages (from requests<3.0.0,>=2.13.0->spacy==3.0.*) (1.26.2)\r\n",
      "Requirement already satisfied: chardet<5,>=3.0.2 in /opt/conda/lib/python3.7/site-packages (from requests<3.0.0,>=2.13.0->spacy==3.0.*) (3.0.4)\r\n",
      "Requirement already satisfied: certifi>=2017.4.17 in /opt/conda/lib/python3.7/site-packages (from requests<3.0.0,>=2.13.0->spacy==3.0.*) (2020.12.5)\r\n",
      "Requirement already satisfied: idna<3,>=2.5 in /opt/conda/lib/python3.7/site-packages (from requests<3.0.0,>=2.13.0->spacy==3.0.*) (2.10)\r\n",
      "Requirement already satisfied: click<7.2.0,>=7.1.1 in /opt/conda/lib/python3.7/site-packages (from typer<0.4.0,>=0.3.0->spacy==3.0.*) (7.1.2)\r\n",
      "Requirement already satisfied: MarkupSafe>=0.23 in /opt/conda/lib/python3.7/site-packages (from jinja2->spacy==3.0.*) (1.1.1)\r\n",
      "Installing collected packages: catalogue, srsly, thinc, spacy\r\n",
      "  Attempting uninstall: catalogue\r\n",
      "    Found existing installation: catalogue 1.0.0\r\n",
      "    Uninstalling catalogue-1.0.0:\r\n",
      "      Successfully uninstalled catalogue-1.0.0\r\n",
      "  Attempting uninstall: srsly\r\n",
      "    Found existing installation: srsly 1.0.5\r\n",
      "    Uninstalling srsly-1.0.5:\r\n",
      "      Successfully uninstalled srsly-1.0.5\r\n",
      "  Attempting uninstall: thinc\r\n",
      "    Found existing installation: thinc 7.4.5\r\n",
      "    Uninstalling thinc-7.4.5:\r\n",
      "      Successfully uninstalled thinc-7.4.5\r\n",
      "  Attempting uninstall: spacy\r\n",
      "    Found existing installation: spacy 2.3.5\r\n",
      "    Uninstalling spacy-2.3.5:\r\n",
      "      Successfully uninstalled spacy-2.3.5\r\n",
      "\u001b[31mERROR: pip's dependency resolver does not currently take into account all the packages that are installed. This behaviour is the source of the following dependency conflicts.\r\n",
      "en-core-web-sm 2.3.1 requires spacy<2.4.0,>=2.3.0, but you have spacy 3.0.5 which is incompatible.\r\n",
      "en-core-web-lg 2.3.1 requires spacy<2.4.0,>=2.3.0, but you have spacy 3.0.5 which is incompatible.\r\n",
      "allennlp 2.0.1 requires spacy<2.4,>=2.1.0, but you have spacy 3.0.5 which is incompatible.\u001b[0m\r\n",
      "Successfully installed catalogue-2.0.1 spacy-3.0.5 srsly-2.4.0 thinc-8.0.2\r\n"
     ]
    }
   ],
   "source": [
    "!pip install pandarallel\n",
    "!pip install pyahocorasick\n",
    "!pip install --upgrade pip\n",
    "!pip install spacy==3.0.*"
   ]
  },
  {
   "cell_type": "code",
   "execution_count": 2,
   "metadata": {
    "_cell_guid": "b1076dfc-b9ad-4769-8c92-a6c4dae69d19",
    "_uuid": "8f2839f25d086af736a60e9eeb907d3b93b6e0e5",
    "execution": {
     "iopub.execute_input": "2021-03-15T11:52:58.836313Z",
     "iopub.status.busy": "2021-03-15T11:52:58.835428Z",
     "iopub.status.idle": "2021-03-15T11:53:08.999889Z",
     "shell.execute_reply": "2021-03-15T11:53:09.001382Z"
    },
    "papermill": {
     "duration": 10.209396,
     "end_time": "2021-03-15T11:53:09.001829",
     "exception": false,
     "start_time": "2021-03-15T11:52:58.792433",
     "status": "completed"
    },
    "tags": []
   },
   "outputs": [
    {
     "name": "stdout",
     "output_type": "stream",
     "text": [
      "INFO: Pandarallel will run on 2 workers.\n",
      "INFO: Pandarallel will use Memory file system to transfer data between the main process and workers.\n"
     ]
    }
   ],
   "source": [
    "import warnings\n",
    "warnings.filterwarnings('ignore')\n",
    "\n",
    "import numpy as np\n",
    "import pandas as pd\n",
    "pd.set_option('display.max_colwidth', None)\n",
    "\n",
    "from pandarallel import pandarallel\n",
    "pandarallel.initialize()\n",
    "\n",
    "import spacy\n",
    "spacy.require_gpu()\n",
    "from spacy.training import Example\n",
    "from spacy.util import minibatch\n",
    "import random\n",
    "\n",
    "import ahocorasick"
   ]
  },
  {
   "cell_type": "code",
   "execution_count": 3,
   "metadata": {
    "execution": {
     "iopub.execute_input": "2021-03-15T11:53:09.087036Z",
     "iopub.status.busy": "2021-03-15T11:53:09.086472Z",
     "iopub.status.idle": "2021-03-15T11:53:34.437066Z",
     "shell.execute_reply": "2021-03-15T11:53:34.436035Z"
    },
    "papermill": {
     "duration": 25.397148,
     "end_time": "2021-03-15T11:53:34.437209",
     "exception": false,
     "start_time": "2021-03-15T11:53:09.040061",
     "status": "completed"
    },
    "tags": []
   },
   "outputs": [],
   "source": [
    "df = pd.read_csv(\"../input/scl-2021-ds/train.csv\")\n",
    "df.set_index(\"id\", inplace=True)\n",
    "df['POI'] = np.nan\n",
    "df['street'] = np.nan\n",
    "\n",
    "def extract_entities(row):\n",
    "    extracted = row['POI/street'].split(\"/\")\n",
    "    \n",
    "    if len(extracted) == 2:\n",
    "        poi, street = extracted\n",
    "        if poi.strip() != '':\n",
    "            row['POI'] = poi\n",
    "        \n",
    "        if street.strip() != '':\n",
    "            row['street'] = street\n",
    "        \n",
    "    return row\n",
    "\n",
    "df = df.parallel_apply(extract_entities, axis=1)\n",
    "nlp = spacy.blank('id')  # create blank Language class"
   ]
  },
  {
   "cell_type": "code",
   "execution_count": 4,
   "metadata": {
    "execution": {
     "iopub.execute_input": "2021-03-15T11:53:34.521499Z",
     "iopub.status.busy": "2021-03-15T11:53:34.520210Z",
     "iopub.status.idle": "2021-03-15T11:53:34.523077Z",
     "shell.execute_reply": "2021-03-15T11:53:34.522654Z"
    },
    "papermill": {
     "duration": 0.048654,
     "end_time": "2021-03-15T11:53:34.523200",
     "exception": false,
     "start_time": "2021-03-15T11:53:34.474546",
     "status": "completed"
    },
    "tags": []
   },
   "outputs": [],
   "source": [
    "from copy import deepcopy\n",
    "\n",
    "def _build_aho(words):\n",
    "    aho = ahocorasick.Automaton()\n",
    "    for idx, key in enumerate(words):\n",
    "        aho.add_word(key, (idx, key))\n",
    "\n",
    "    return aho\n",
    "\n",
    "def format_data(text, poi, street):\n",
    "    entities = []\n",
    "    _text = deepcopy(text)\n",
    "\n",
    "    if isinstance(poi, str):\n",
    "        aho = _build_aho([poi])\n",
    "        aho.make_automaton()\n",
    "        latest_char_idx = 0\n",
    "        \n",
    "        for end, (_, word) in aho.iter(_text):\n",
    "            start = end - len(word) + 1\n",
    "            if start < latest_char_idx:\n",
    "                continue\n",
    "\n",
    "            entities.append((start, end + 1, 'POI'))\n",
    "            _text = _text.replace(word, \" \" * len(word))\n",
    "            latest_char_idx = end + 1\n",
    "        \n",
    "    if isinstance(street, str):\n",
    "        aho = _build_aho([street])\n",
    "        aho.make_automaton()\n",
    "        latest_char_idx = 0\n",
    "\n",
    "        for end, (_, word) in aho.iter(_text):\n",
    "            start = end - len(word) + 1\n",
    "            if start < latest_char_idx:\n",
    "                continue\n",
    "\n",
    "            entities.append((start, end + 1, 'STREET'))\n",
    "            latest_char_idx = end + 1\n",
    "    \n",
    "    return Example.from_dict(nlp.make_doc(text), {\"entities\": entities})"
   ]
  },
  {
   "cell_type": "code",
   "execution_count": 5,
   "metadata": {
    "execution": {
     "iopub.execute_input": "2021-03-15T11:53:34.603173Z",
     "iopub.status.busy": "2021-03-15T11:53:34.602396Z",
     "iopub.status.idle": "2021-03-15T11:55:18.235613Z",
     "shell.execute_reply": "2021-03-15T11:55:18.234467Z"
    },
    "papermill": {
     "duration": 103.676557,
     "end_time": "2021-03-15T11:55:18.235780",
     "exception": false,
     "start_time": "2021-03-15T11:53:34.559223",
     "status": "completed"
    },
    "tags": []
   },
   "outputs": [
    {
     "name": "stdout",
     "output_type": "stream",
     "text": [
      "Preparing Spacy examples...\n"
     ]
    }
   ],
   "source": [
    "print(\"Preparing Spacy examples...\")\n",
    "\n",
    "examples = []\n",
    "for idx in df.index:\n",
    "    try:\n",
    "        row = df.loc[idx]\n",
    "        example = format_data(row['raw_address'], row['POI'], row['street'])\n",
    "        examples.append(example)\n",
    "    except Exception as e:\n",
    "        print(idx)\n",
    "        print(\"-\" * 50)\n",
    "        print(e)\n",
    "        break"
   ]
  },
  {
   "cell_type": "code",
   "execution_count": 6,
   "metadata": {
    "execution": {
     "iopub.execute_input": "2021-03-15T11:55:18.317551Z",
     "iopub.status.busy": "2021-03-15T11:55:18.315930Z",
     "iopub.status.idle": "2021-03-15T11:55:18.318161Z",
     "shell.execute_reply": "2021-03-15T11:55:18.318544Z"
    },
    "papermill": {
     "duration": 0.045748,
     "end_time": "2021-03-15T11:55:18.318667",
     "exception": false,
     "start_time": "2021-03-15T11:55:18.272919",
     "status": "completed"
    },
    "tags": []
   },
   "outputs": [],
   "source": [
    "def train_spacy(nlp, examples, iterations):\n",
    "    \n",
    "    TRAIN_DATA = examples\n",
    "    # create the built-in pipeline components and add them to the pipeline\n",
    "    # nlp.create_pipe works for built-ins that are registered with spaCy\n",
    "    if 'ner' not in nlp.pipe_names:\n",
    "        ner = nlp.add_pipe('ner', last=True)\n",
    "\n",
    "    # get names of other pipes to disable them during training\n",
    "    other_pipes = [pipe for pipe in nlp.pipe_names if pipe != 'ner']\n",
    "    with nlp.disable_pipes(*other_pipes):  # only train NER\n",
    "        optimizer = nlp.begin_training()\n",
    "        for itn in range(iterations):\n",
    "            print(\"Starting iteration \" + str(itn))\n",
    "            random.shuffle(examples)\n",
    "            batches = minibatch(examples, 1000)\n",
    "            losses = {}\n",
    "            for batch in batches:\n",
    "                nlp.update(\n",
    "                    batch,\n",
    "                    drop=0.2,  # dropout - make it harder to memorise data\n",
    "                    sgd=optimizer,  # callable to update weights\n",
    "                    losses=losses)\n",
    "            print(losses)\n",
    "    return nlp"
   ]
  },
  {
   "cell_type": "code",
   "execution_count": 7,
   "metadata": {
    "execution": {
     "iopub.execute_input": "2021-03-15T11:55:18.394533Z",
     "iopub.status.busy": "2021-03-15T11:55:18.394009Z",
     "iopub.status.idle": "2021-03-15T11:55:18.397170Z",
     "shell.execute_reply": "2021-03-15T11:55:18.396742Z"
    },
    "papermill": {
     "duration": 0.042491,
     "end_time": "2021-03-15T11:55:18.397271",
     "exception": false,
     "start_time": "2021-03-15T11:55:18.354780",
     "status": "completed"
    },
    "tags": []
   },
   "outputs": [],
   "source": [
    "train = examples"
   ]
  },
  {
   "cell_type": "code",
   "execution_count": 8,
   "metadata": {
    "execution": {
     "iopub.execute_input": "2021-03-15T11:55:18.487727Z",
     "iopub.status.busy": "2021-03-15T11:55:18.486924Z",
     "iopub.status.idle": "2021-03-15T14:30:18.205410Z",
     "shell.execute_reply": "2021-03-15T14:30:18.205854Z"
    },
    "papermill": {
     "duration": 9299.772519,
     "end_time": "2021-03-15T14:30:18.206040",
     "exception": false,
     "start_time": "2021-03-15T11:55:18.433521",
     "status": "completed"
    },
    "tags": []
   },
   "outputs": [
    {
     "name": "stderr",
     "output_type": "stream",
     "text": [
      "[2021-03-15 11:55:18,485] [INFO] Created vocabulary\n",
      "[2021-03-15 11:55:18,487] [INFO] Finished initializing nlp object\n"
     ]
    },
    {
     "name": "stdout",
     "output_type": "stream",
     "text": [
      "Starting iteration 0\n",
      "{'ner': 323734.03137283004}\n",
      "Starting iteration 1\n",
      "{'ner': 170926.6240479609}\n",
      "Starting iteration 2\n",
      "{'ner': 143802.65496775782}\n",
      "Starting iteration 3\n",
      "{'ner': 129507.55024031132}\n",
      "Starting iteration 4\n",
      "{'ner': 121077.29372811098}\n",
      "Starting iteration 5\n",
      "{'ner': 111915.66885191426}\n",
      "Starting iteration 6\n",
      "{'ner': 106873.12344156954}\n",
      "Starting iteration 7\n",
      "{'ner': 103272.73400572392}\n",
      "Starting iteration 8\n",
      "{'ner': 97765.99141909205}\n",
      "Starting iteration 9\n",
      "{'ner': 96079.5418501288}\n",
      "Starting iteration 10\n",
      "{'ner': 92310.75271290338}\n",
      "Starting iteration 11\n",
      "{'ner': 90768.40105642738}\n",
      "Starting iteration 12\n",
      "{'ner': 88095.13012283432}\n",
      "Starting iteration 13\n",
      "{'ner': 86582.26926741986}\n",
      "Starting iteration 14\n",
      "{'ner': 84348.90447655541}\n",
      "Starting iteration 15\n",
      "{'ner': 82923.51859248859}\n",
      "Starting iteration 16\n",
      "{'ner': 79696.39765542251}\n",
      "Starting iteration 17\n",
      "{'ner': 80578.29333920995}\n",
      "Starting iteration 18\n",
      "{'ner': 79580.0670703959}\n",
      "Starting iteration 19\n",
      "{'ner': 77001.15006978271}\n",
      "CPU times: user 2h 27min 29s, sys: 7min 16s, total: 2h 34min 46s\n",
      "Wall time: 2h 34min 59s\n"
     ]
    }
   ],
   "source": [
    "%%time\n",
    "ner_nlp = train_spacy(nlp, train, 20)"
   ]
  },
  {
   "cell_type": "code",
   "execution_count": 9,
   "metadata": {
    "execution": {
     "iopub.execute_input": "2021-03-15T14:30:18.299643Z",
     "iopub.status.busy": "2021-03-15T14:30:18.298737Z",
     "iopub.status.idle": "2021-03-15T14:30:18.346588Z",
     "shell.execute_reply": "2021-03-15T14:30:18.346150Z"
    },
    "papermill": {
     "duration": 0.098188,
     "end_time": "2021-03-15T14:30:18.346703",
     "exception": false,
     "start_time": "2021-03-15T14:30:18.248515",
     "status": "completed"
    },
    "tags": []
   },
   "outputs": [
    {
     "name": "stdout",
     "output_type": "stream",
     "text": [
      "address: kedai tenun jep senn, kota bumi, kebon melati\n",
      "expected poi: kedai tenun jepara sennaart\n",
      "expected street: kota bumi\n",
      "\n",
      "kota bumi - STREET\n",
      "--------------------------------------------------\n",
      "address: wadungasri dalam waru raya wad asri, 24 sidoarjo\n",
      "expected poi: dalam waru\n",
      "expected street: raya wad asri\n",
      "\n",
      "waru raya wad asri - STREET\n",
      "--------------------------------------------------\n",
      "address: bulusan tim barat iii, no 35 3 tembalang\n",
      "expected poi: nan\n",
      "expected street: tim barat iii\n",
      "\n",
      "tim barat iii - STREET\n",
      "--------------------------------------------------\n",
      "address: bakti jaya bukit perm vii 8 15315 setu\n",
      "expected poi: nan\n",
      "expected street: bukit perm vii\n",
      "\n",
      "bukit perm vii - STREET\n",
      "--------------------------------------------------\n",
      "address: jl terusan buah batu no 185. samping indomaret. bandung.\n",
      "expected poi: samping indomaret\n",
      "expected street: jl terusan buah batu\n",
      "\n",
      "jl terusan buah batu - STREET\n",
      "--------------------------------------------------\n",
      "address: setia indah, jati, no 12\n",
      "expected poi: setia indah\n",
      "expected street: jati\n",
      "\n",
      "setia indah - POI\n",
      "jati - STREET\n",
      "--------------------------------------------------\n",
      "address: kepuhkiriman gg. bca 61256 waru\n",
      "expected poi: nan\n",
      "expected street: gg. bca\n",
      "\n",
      "gg. bca - STREET\n",
      "--------------------------------------------------\n",
      "address: raya cigan 21 cipagalo bojongsoang\n",
      "expected poi: nan\n",
      "expected street: raya cigan\n",
      "\n",
      "raya cigan - STREET\n",
      "--------------------------------------------------\n",
      "address: selo timur viii 390 12 panggung lor semarang utara\n",
      "expected poi: nan\n",
      "expected street: selo timur viii\n",
      "\n",
      "selo timur viii - STREET\n",
      "--------------------------------------------------\n",
      "address: gang indah,\n",
      "expected poi: nan\n",
      "expected street: gang indah\n",
      "\n",
      "gang indah - STREET\n",
      "--------------------------------------------------\n"
     ]
    }
   ],
   "source": [
    "for idx, row in df.iloc[100:110].iterrows():\n",
    "    print(f\"address: {row['raw_address']}\")\n",
    "    print(f\"expected poi: {row['POI']}\")\n",
    "    print(f\"expected street: {row['street']}\")\n",
    "    print()\n",
    "    \n",
    "    doc = ner_nlp(row['raw_address'])\n",
    "    for ent in doc.ents:\n",
    "        print(ent.text, \"-\", ent.label_)\n",
    "\n",
    "    print(\"-\" * 50)"
   ]
  },
  {
   "cell_type": "code",
   "execution_count": 10,
   "metadata": {
    "execution": {
     "iopub.execute_input": "2021-03-15T14:30:18.441587Z",
     "iopub.status.busy": "2021-03-15T14:30:18.441073Z",
     "iopub.status.idle": "2021-03-15T14:30:18.514434Z",
     "shell.execute_reply": "2021-03-15T14:30:18.513557Z"
    },
    "papermill": {
     "duration": 0.123162,
     "end_time": "2021-03-15T14:30:18.514571",
     "exception": false,
     "start_time": "2021-03-15T14:30:18.391409",
     "status": "completed"
    },
    "tags": []
   },
   "outputs": [],
   "source": [
    "df_test = pd.read_csv(\"../input/scl-2021-ds/test.csv\")\n",
    "df_test.set_index(\"id\", inplace=True)"
   ]
  },
  {
   "cell_type": "code",
   "execution_count": 11,
   "metadata": {
    "execution": {
     "iopub.execute_input": "2021-03-15T14:30:18.608196Z",
     "iopub.status.busy": "2021-03-15T14:30:18.607258Z",
     "iopub.status.idle": "2021-03-15T14:32:13.796793Z",
     "shell.execute_reply": "2021-03-15T14:32:13.796333Z"
    },
    "papermill": {
     "duration": 115.238408,
     "end_time": "2021-03-15T14:32:13.796970",
     "exception": false,
     "start_time": "2021-03-15T14:30:18.558562",
     "status": "completed"
    },
    "tags": []
   },
   "outputs": [],
   "source": [
    "submission = []\n",
    "for idx, row in df_test.iloc[:].iterrows():\n",
    "    doc = ner_nlp(row['raw_address'])\n",
    "    tmp = {'id': idx}\n",
    "    for ent in doc.ents:\n",
    "        tmp[ent.label_] = ent.text\n",
    "    submission.append(tmp)\n",
    "    \n"
   ]
  },
  {
   "cell_type": "code",
   "execution_count": 12,
   "metadata": {
    "execution": {
     "iopub.execute_input": "2021-03-15T14:32:13.923323Z",
     "iopub.status.busy": "2021-03-15T14:32:13.907971Z",
     "iopub.status.idle": "2021-03-15T14:32:14.016712Z",
     "shell.execute_reply": "2021-03-15T14:32:14.015962Z"
    },
    "papermill": {
     "duration": 0.175297,
     "end_time": "2021-03-15T14:32:14.016857",
     "exception": false,
     "start_time": "2021-03-15T14:32:13.841560",
     "status": "completed"
    },
    "tags": []
   },
   "outputs": [],
   "source": [
    "submission = pd.DataFrame(submission)\n",
    "submission['POI'] = submission['POI'].replace(np.nan, '')\n",
    "submission['STREET'] = submission['STREET'].replace(np.nan, '')\n",
    "submission['POI/street'] = submission['POI'] + '/' + submission['STREET'] "
   ]
  },
  {
   "cell_type": "code",
   "execution_count": null,
   "metadata": {
    "papermill": {
     "duration": 0.043441,
     "end_time": "2021-03-15T14:32:14.155797",
     "exception": false,
     "start_time": "2021-03-15T14:32:14.112356",
     "status": "completed"
    },
    "tags": []
   },
   "outputs": [],
   "source": []
  },
  {
   "cell_type": "code",
   "execution_count": 13,
   "metadata": {
    "execution": {
     "iopub.execute_input": "2021-03-15T14:32:14.248580Z",
     "iopub.status.busy": "2021-03-15T14:32:14.247337Z",
     "iopub.status.idle": "2021-03-15T14:32:14.440617Z",
     "shell.execute_reply": "2021-03-15T14:32:14.440036Z"
    },
    "papermill": {
     "duration": 0.241501,
     "end_time": "2021-03-15T14:32:14.440750",
     "exception": false,
     "start_time": "2021-03-15T14:32:14.199249",
     "status": "completed"
    },
    "tags": []
   },
   "outputs": [],
   "source": [
    "pd.DataFrame({'id':submission['id'],'POI/street':submission['POI/street']}).to_csv('submission.csv', header=True, index=False)"
   ]
  }
 ],
 "metadata": {
  "kernelspec": {
   "display_name": "Python 3",
   "language": "python",
   "name": "python3"
  },
  "language_info": {
   "codemirror_mode": {
    "name": "ipython",
    "version": 3
   },
   "file_extension": ".py",
   "mimetype": "text/x-python",
   "name": "python",
   "nbconvert_exporter": "python",
   "pygments_lexer": "ipython3",
   "version": "3.7.9"
  },
  "papermill": {
   "default_parameters": {},
   "duration": 9618.004698,
   "end_time": "2021-03-15T14:32:19.998215",
   "environment_variables": {},
   "exception": null,
   "input_path": "__notebook__.ipynb",
   "output_path": "__notebook__.ipynb",
   "parameters": {},
   "start_time": "2021-03-15T11:52:01.993517",
   "version": "2.2.2"
  }
 },
 "nbformat": 4,
 "nbformat_minor": 4
}
